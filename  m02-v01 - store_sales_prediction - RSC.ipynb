{
 "cells": [
  {
   "cell_type": "markdown",
   "metadata": {
    "heading_collapsed": true
   },
   "source": [
    "# 0.0 IMPORTS"
   ]
  },
  {
   "cell_type": "code",
   "execution_count": null,
   "metadata": {
    "ExecuteTime": {
     "end_time": "2020-11-29T15:04:09.754287Z",
     "start_time": "2020-11-29T15:04:02.444644Z"
    },
    "hidden": true
   },
   "outputs": [],
   "source": [
    "import os\n",
    "\n",
    "import math\n",
    "import numpy  as np\n",
    "import pandas as pd\n",
    "import inflection\n",
    "\n",
    "import seaborn as sns\n",
    "\n",
    "from matplotlib import pyplot as plt\n",
    "from IPython.core.display import HTML"
   ]
  },
  {
   "cell_type": "markdown",
   "metadata": {
    "heading_collapsed": true,
    "hidden": true
   },
   "source": [
    "## 0.1. Helper Functions "
   ]
  },
  {
   "cell_type": "code",
   "execution_count": null,
   "metadata": {
    "ExecuteTime": {
     "end_time": "2020-11-29T15:04:09.770132Z",
     "start_time": "2020-11-29T15:04:09.758681Z"
    },
    "hidden": true
   },
   "outputs": [],
   "source": [
    "%matplotlib inline\n",
    "    %pylab inline\n",
    "    plt.style.use( 'bmh' )\n",
    "    plt.rcParams['figure.figsize'] = [25, 12]\n",
    "    plt.rcParams['font.size'] = 24\n",
    "    display( HTML( '<style>.container { width:100% !important; }</style>') )\n",
    "    pd.options.display.max_columns = None\n",
    "    pd.options.display.max_rows = None\n",
    "    pd.set_option( 'display.expand_frame_repr', False )\n",
    "    sns.set()\n",
    "    \n",
    "    \n",
    "#funçao p/ aumentar tamanho dos graficos"
   ]
  },
  {
   "cell_type": "markdown",
   "metadata": {
    "heading_collapsed": true,
    "hidden": true
   },
   "source": [
    "## 0.2. Loanding data "
   ]
  },
  {
   "cell_type": "code",
   "execution_count": null,
   "metadata": {
    "ExecuteTime": {
     "end_time": "2020-11-29T15:04:09.775077Z",
     "start_time": "2020-11-29T15:04:02.445Z"
    },
    "hidden": true
   },
   "outputs": [],
   "source": [
    "os.getcwd()\n",
    "#usar para saber em que diretório estou"
   ]
  },
  {
   "cell_type": "code",
   "execution_count": null,
   "metadata": {
    "ExecuteTime": {
     "end_time": "2020-11-29T15:04:09.777157Z",
     "start_time": "2020-11-29T15:04:02.448Z"
    },
    "hidden": true
   },
   "outputs": [],
   "source": [
    "df_sales_raw = pd.read_csv ( \"/home/rayane/repos/DataScience_Em_Producao/data/train.csv\", low_memory = False)\n",
    "df_store_raw = pd.read_csv ( \"/home/rayane/repos/DataScience_Em_Producao/data/store.csv\", low_memory = False)\n",
    "\n",
    "#merge (unindo utilizando pandas)\n",
    "\n",
    "df_raw = pd.merge(df_sales_raw, df_store_raw, how=\"left\", on=\"Store\")\n"
   ]
  },
  {
   "cell_type": "code",
   "execution_count": null,
   "metadata": {
    "ExecuteTime": {
     "end_time": "2020-11-29T15:04:09.778945Z",
     "start_time": "2020-11-29T15:04:02.451Z"
    },
    "hidden": true
   },
   "outputs": [],
   "source": [
    "df_raw.sample()"
   ]
  },
  {
   "cell_type": "markdown",
   "metadata": {
    "heading_collapsed": true
   },
   "source": [
    "# 1.0. DESCRICAO DOS DADOS"
   ]
  },
  {
   "cell_type": "markdown",
   "metadata": {
    "heading_collapsed": true,
    "hidden": true
   },
   "source": [
    "## 1.1. Rename Columns "
   ]
  },
  {
   "cell_type": "code",
   "execution_count": null,
   "metadata": {
    "ExecuteTime": {
     "end_time": "2020-11-29T15:04:09.781205Z",
     "start_time": "2020-11-29T15:04:02.454Z"
    },
    "hidden": true
   },
   "outputs": [],
   "source": [
    "df1 = df_raw.copy() #sempre que mudar de secao o ideal é copiar o dataset que eu modifiquei"
   ]
  },
  {
   "cell_type": "code",
   "execution_count": null,
   "metadata": {
    "ExecuteTime": {
     "end_time": "2020-11-29T15:04:09.783337Z",
     "start_time": "2020-11-29T15:04:02.456Z"
    },
    "hidden": true
   },
   "outputs": [],
   "source": [
    "df_raw.columns #saber o nome das colunas"
   ]
  },
  {
   "cell_type": "code",
   "execution_count": null,
   "metadata": {
    "ExecuteTime": {
     "end_time": "2020-11-29T15:04:09.785348Z",
     "start_time": "2020-11-29T15:04:02.458Z"
    },
    "hidden": true
   },
   "outputs": [],
   "source": [
    "cols_old = ['Store', 'DayOfWeek', 'Date', 'Sales', 'Customers', 'Open', 'Promo',\n",
    "       'StateHoliday', 'SchoolHoliday', 'StoreType', 'Assortment',\n",
    "       'CompetitionDistance', 'CompetitionOpenSinceMonth',\n",
    "       'CompetitionOpenSinceYear', 'Promo2', 'Promo2SinceWeek',\n",
    "       'Promo2SinceYear', 'PromoInterval']\n",
    "\n",
    "#mudando o estilo de como ta escrevendo\n",
    "\n",
    "snakecase = lambda x: inflection.underscore( x ) #criei uma funcao usando o lambda pra mudar o estilo de escrita\n",
    "cols_new = list( map( snakecase, cols_old) ) #mapiei os nomes em formato de lista\n",
    "\n",
    "#rename \n",
    "\n",
    "df1.columns = cols_new\n",
    "df1.columns #mudou"
   ]
  },
  {
   "cell_type": "code",
   "execution_count": null,
   "metadata": {
    "ExecuteTime": {
     "end_time": "2020-11-29T15:04:09.787235Z",
     "start_time": "2020-11-29T15:04:02.461Z"
    },
    "hidden": true
   },
   "outputs": [],
   "source": [
    "df1.sample() #pra saber como ficou"
   ]
  },
  {
   "cell_type": "markdown",
   "metadata": {
    "heading_collapsed": true,
    "hidden": true
   },
   "source": [
    "## 1.2. Data Dimensions \n",
    "\n",
    "qual é a quantidade de linhas e colunas do meu dataset"
   ]
  },
  {
   "cell_type": "code",
   "execution_count": null,
   "metadata": {
    "ExecuteTime": {
     "end_time": "2020-11-29T15:04:09.789082Z",
     "start_time": "2020-11-29T15:04:02.464Z"
    },
    "hidden": true
   },
   "outputs": [],
   "source": [
    "print (\"Number of Rows: {}\".format (df1.shape[0])) #sabendo o tamanho das linhas\n",
    "print (\"Number of columns: {}\".format (df1.shape[1])) #sabendo o tamanho da coluna"
   ]
  },
  {
   "cell_type": "markdown",
   "metadata": {
    "heading_collapsed": true,
    "hidden": true
   },
   "source": [
    "## 1.3 Data Types \n",
    "quais são os tipos de dados?\n"
   ]
  },
  {
   "cell_type": "code",
   "execution_count": null,
   "metadata": {
    "ExecuteTime": {
     "end_time": "2020-11-29T15:04:09.790844Z",
     "start_time": "2020-11-29T15:04:02.466Z"
    },
    "hidden": true
   },
   "outputs": [],
   "source": [
    "df1.dtypes\n",
    "#observe que date pex. esta como object (tudo no pandas que nao e int sera objeto = string). Como mudar?\n",
    "\n"
   ]
  },
  {
   "cell_type": "code",
   "execution_count": null,
   "metadata": {
    "ExecuteTime": {
     "end_time": "2020-11-29T15:04:09.792652Z",
     "start_time": "2020-11-29T15:04:02.468Z"
    },
    "hidden": true
   },
   "outputs": [],
   "source": [
    "df1[\"date\"] = pd.to_datetime( df1[\"date\"]) #alterando o tipo de variavel\n",
    "df1.dtypes"
   ]
  },
  {
   "cell_type": "markdown",
   "metadata": {
    "heading_collapsed": true,
    "hidden": true
   },
   "source": [
    "## 1.4 Check NA"
   ]
  },
  {
   "cell_type": "code",
   "execution_count": null,
   "metadata": {
    "ExecuteTime": {
     "end_time": "2020-11-29T15:04:09.794559Z",
     "start_time": "2020-11-29T15:04:02.470Z"
    },
    "hidden": true
   },
   "outputs": [],
   "source": [
    "df1.isna().sum() #mostraa soma de NAS em cada coluna (a soma e mostrada com sum. isna mostra se tem pelo menos 1\n",
    "\n"
   ]
  },
  {
   "cell_type": "markdown",
   "metadata": {
    "heading_collapsed": true,
    "hidden": true
   },
   "source": [
    "## 1.5. Fillout NA\n",
    "primeiro vou ver as colunas que tem NA e vou aplicar técnicas de negócios a elas."
   ]
  },
  {
   "cell_type": "code",
   "execution_count": null,
   "metadata": {
    "ExecuteTime": {
     "end_time": "2020-11-29T15:04:09.796490Z",
     "start_time": "2020-11-29T15:04:02.472Z"
    },
    "hidden": true
   },
   "outputs": [],
   "source": [
    "#saber a distancia max\n",
    "df1.competition_distance.max()"
   ]
  },
  {
   "cell_type": "code",
   "execution_count": null,
   "metadata": {
    "ExecuteTime": {
     "end_time": "2020-11-29T15:04:09.798616Z",
     "start_time": "2020-11-29T15:04:02.474Z"
    },
    "code_folding": [],
    "hidden": true
   },
   "outputs": [],
   "source": [
    "#competition_distance ~dist de uma loja competidora. 0 = muito longe ou inexistente. Sol = trocar 0 por num acima da dist max\n",
    "df1[\"competition_distance\"] = df1[\"competition_distance\"].apply(lambda x: 200000.0 if math.isnan( x ) else x )\n",
    "\n",
    "#competition_open_since_month ~mes em q loja competidora abriu. na = n tem ou n sabe. So. = colocar o mes da dta de venda  \n",
    "df1['competition_open_since_month'] = df1.apply( lambda x: x['date'].month if  \n",
    "                                                math.isnan( x['competition_open_since_month'] )\n",
    "                                                else x['competition_open_since_month'], axis=1 )\n",
    "\n",
    "#competition_open_since_year ~ano em q loja competidora abriu. na = n tem ou n sabe. Sol. = colocar o ano da dta de   \n",
    "\n",
    "df1[\"competition_open_since_year\"] = df1.apply(lambda x: x[\"date\"].year if\n",
    "                                               math.isnan( x[\"competition_open_since_year\"] )\n",
    "                                               else x[\"competition_open_since_year\"], axis=1)\n",
    "                             \n",
    "#promo2_since_week ~cont da prom padrao. Algumas lojas entram e outras nao. na=nao participou. sol. substituir pela data\n",
    "df1[\"promo2_since_week\"] = df1.apply(lambda x: x[\"date\"].week if\n",
    "                                               math.isnan( x[\"promo2_since_week\"] )\n",
    "                                               else x[\"promo2_since_week\"], axis=1)\n",
    "\n",
    "#promo2_since_year ~cont da prom padrao. Algumas lojas entram e outras na. na=nao participou. Sol. substituir pela data\n",
    "df1[\"promo2_since_year\"] = df1.apply(lambda x: x[\"date\"].year if\n",
    "                                               math.isnan( x[\"promo2_since_year\"] )\n",
    "                                               else x[\"promo2_since_year\"], axis=1)\n",
    "               \n",
    "month_map = {1: \"Jan\", 2: \"Fev\", 3: \"Mar\", 4: \"Apr\", 5: \"May\", 6: \"Jun\", \n",
    " 7: \"Jul\", 8: \"Aug\", 9: \"Set\", 10: \"Oct\", 11: \"Nov\", 12: \"Dec\"}\n",
    "\n",
    "df1[\"promo_interval\"].fillna(0, inplace=True)\n",
    "\n",
    "df1[\"month_map\"] = df1[\"date\"].dt.month.map(month_map)\n",
    "\n",
    "df1['is_promo'] = df1[['promo_interval', 'month_map']].apply( lambda x: 0 if x['promo_interval'] == 0 \n",
    "                                                             else 1 if x['month_map'] \n",
    "                                                             in x['promo_interval'].split( ',' ) \n",
    "                                                             else 0, axis=1 )\n"
   ]
  },
  {
   "cell_type": "code",
   "execution_count": null,
   "metadata": {
    "ExecuteTime": {
     "end_time": "2020-11-29T15:04:09.800491Z",
     "start_time": "2020-11-29T15:04:02.476Z"
    },
    "hidden": true
   },
   "outputs": [],
   "source": [
    "df1.isna().sum()"
   ]
  },
  {
   "cell_type": "markdown",
   "metadata": {
    "heading_collapsed": true,
    "hidden": true
   },
   "source": [
    "## 1.6. Change Types\n",
    "importante checar se as operações não alteraram os tipos das variaveis "
   ]
  },
  {
   "cell_type": "code",
   "execution_count": null,
   "metadata": {
    "ExecuteTime": {
     "end_time": "2020-11-29T15:04:09.802268Z",
     "start_time": "2020-11-29T15:04:02.478Z"
    },
    "hidden": true
   },
   "outputs": [],
   "source": [
    "df1.dtypes\n"
   ]
  },
  {
   "cell_type": "code",
   "execution_count": null,
   "metadata": {
    "ExecuteTime": {
     "end_time": "2020-11-29T15:04:09.804049Z",
     "start_time": "2020-11-29T15:04:02.482Z"
    },
    "hidden": true
   },
   "outputs": [],
   "source": [
    "df1['competition_open_since_month'] =  df1[\"competition_open_since_month\"].astype(int)\n",
    "df1['competition_open_since_year'] =  df1[\"competition_open_since_year\"].astype(int)\n",
    "\n",
    "df1[\"promo2_since_week\"] =  df1[\"promo2_since_week\"].astype(int)\n",
    "df1[\"promo2_since_year\"] =  df1[\"promo2_since_year\"].astype(int)"
   ]
  },
  {
   "cell_type": "code",
   "execution_count": null,
   "metadata": {
    "ExecuteTime": {
     "end_time": "2020-11-29T15:04:09.805908Z",
     "start_time": "2020-11-29T15:04:02.483Z"
    },
    "hidden": true
   },
   "outputs": [],
   "source": [
    "df1.dtypes"
   ]
  },
  {
   "cell_type": "markdown",
   "metadata": {
    "hidden": true
   },
   "source": [
    "## 1.7. Descriptive Statistical  \n",
    " serve para ganhar conhecimento de negocio e ajuda na deteccao de alguns erros\n",
    " \n",
    " ~dispersão = saber o quao esparcos meus dados estao de acordo com a tendencia central (media ou mediana) e tendencia central = resumem os dados num unico numero \n",
    " \n",
    " curtose - concentracao dos dados. + = afunilada - = grossa\n",
    " \n",
    " skew - - concentração na esquerda e + a concentração é na direita"
   ]
  },
  {
   "cell_type": "code",
   "execution_count": null,
   "metadata": {
    "ExecuteTime": {
     "end_time": "2020-11-29T15:04:09.807794Z",
     "start_time": "2020-11-29T15:04:02.486Z"
    },
    "hidden": true
   },
   "outputs": [],
   "source": [
    "#primeiro vou separar o df em numerica e escrita\n",
    "num_attributes = df1.select_dtypes( include = ['int64', 'float64']) #numeric\n",
    "cat_attributes = df1.select_dtypes( exclude = ['datetime64[ns]','int64', 'float64' ]) #categoric"
   ]
  },
  {
   "cell_type": "code",
   "execution_count": null,
   "metadata": {
    "ExecuteTime": {
     "end_time": "2020-11-29T15:04:09.809799Z",
     "start_time": "2020-11-29T15:04:02.488Z"
    },
    "hidden": true
   },
   "outputs": [],
   "source": [
    "num_attributes.sample() #numerico"
   ]
  },
  {
   "cell_type": "code",
   "execution_count": null,
   "metadata": {
    "ExecuteTime": {
     "end_time": "2020-11-29T15:04:09.811590Z",
     "start_time": "2020-11-29T15:04:02.490Z"
    },
    "hidden": true
   },
   "outputs": [],
   "source": [
    "cat_attributes.sample() #categoricos"
   ]
  },
  {
   "cell_type": "markdown",
   "metadata": {
    "hidden": true
   },
   "source": [
    "### 1.7.1 Numerical Attributes"
   ]
  },
  {
   "cell_type": "code",
   "execution_count": null,
   "metadata": {
    "ExecuteTime": {
     "end_time": "2020-11-29T15:04:09.813509Z",
     "start_time": "2020-11-29T15:04:02.492Z"
    },
    "hidden": true
   },
   "outputs": [],
   "source": [
    "#central tendency - mean, median\n",
    "ct1 =  pd.DataFrame( num_attributes.apply( np.mean)).T\n",
    "ct2 =  pd.DataFrame( num_attributes.apply( np.median)).T\n",
    "\n",
    "\n",
    "#dispersion - std, min, max, range, skew, kurtosis\n",
    "d1 =  pd.DataFrame( num_attributes.apply( np.std ) ).T\n",
    "d2 =  pd.DataFrame( num_attributes.apply( min  ) ).T\n",
    "d3 = pd.DataFrame( num_attributes.apply( max)).T\n",
    "d4 =  pd.DataFrame( num_attributes.apply( lambda x: x.max() - x.min() )).T\n",
    "d5 = pd.DataFrame( num_attributes.apply( lambda x: x.skew() )).T\n",
    "d6 = pd.DataFrame( num_attributes.apply( lambda x: x.kurtosis() )).T\n",
    "\n",
    "\n",
    "#concatenar\n",
    "\n",
    "m = pd.concat( [d2, d3, d4, ct1, ct2, d1, d5, d6] ).T.reset_index()\n",
    "m.columns = ['atributes', 'min', 'max', 'range', 'mean', 'median', 'std', 'skew', 'kurtosis']"
   ]
  },
  {
   "cell_type": "code",
   "execution_count": null,
   "metadata": {
    "ExecuteTime": {
     "end_time": "2020-11-29T15:04:09.815368Z",
     "start_time": "2020-11-29T15:04:02.495Z"
    },
    "hidden": true
   },
   "outputs": [],
   "source": [
    "m\n"
   ]
  },
  {
   "cell_type": "code",
   "execution_count": null,
   "metadata": {
    "ExecuteTime": {
     "end_time": "2020-11-29T15:04:09.817118Z",
     "start_time": "2020-11-29T15:04:02.496Z"
    },
    "hidden": true
   },
   "outputs": [],
   "source": [
    "sns.distplot(df1['competition_open_since_year'])"
   ]
  },
  {
   "cell_type": "markdown",
   "metadata": {
    "hidden": true
   },
   "source": [
    "### 1.7.2 Categorical Attributes"
   ]
  },
  {
   "cell_type": "code",
   "execution_count": null,
   "metadata": {
    "ExecuteTime": {
     "end_time": "2020-11-29T15:04:09.818947Z",
     "start_time": "2020-11-29T15:04:02.498Z"
    },
    "hidden": true
   },
   "outputs": [],
   "source": [
    "cat_attributes.apply( lambda x: x.unique().shape[0]) #quantos niveis cada variavel cat tem. "
   ]
  },
  {
   "cell_type": "code",
   "execution_count": null,
   "metadata": {
    "ExecuteTime": {
     "end_time": "2020-11-29T15:04:09.820715Z",
     "start_time": "2020-11-29T15:04:02.500Z"
    },
    "hidden": true
   },
   "outputs": [],
   "source": [
    "sns.boxplot(x = 'state_holiday', y = 'sales', data = df1) #dimensoes diferentes causam graficos muito espacados\n"
   ]
  },
  {
   "cell_type": "code",
   "execution_count": null,
   "metadata": {
    "ExecuteTime": {
     "end_time": "2020-11-29T15:04:09.822613Z",
     "start_time": "2020-11-29T15:04:02.502Z"
    },
    "hidden": true
   },
   "outputs": [],
   "source": [
    "aux1 = df1[(df1['state_holiday'] != '0') & (df1['sales'] > 0)]\n",
    "\n",
    "plt.subplot(1, 3, 1) #1 linha com 3 graph e esse na 1 posicao\n",
    "sns.boxplot(x = 'state_holiday', y = 'sales', data = aux1)\n",
    "\n",
    "plt.subplot(1, 3, 2) #1 linha com 3 graph e esse na 2 posicao\n",
    "sns.boxplot(x = 'store_type', y = 'sales', data = aux1)\n",
    "\n",
    "plt.subplot(1, 3, 3) #1 linha com 3 graph e esse na 3 posicao\n",
    "sns.boxplot(x = 'assortment', y = 'sales', data = aux1)\n",
    "\n",
    " - #interpretacao dos boxplt = quartil  75, 50 (mediana) e 25. Comparar medianas."
   ]
  },
  {
   "cell_type": "markdown",
   "metadata": {},
   "source": [
    "# Tetse\n"
   ]
  },
  {
   "cell_type": "code",
   "execution_count": 6,
   "metadata": {
    "ExecuteTime": {
     "end_time": "2021-05-08T13:23:41.800182Z",
     "start_time": "2021-05-08T13:23:41.776076Z"
    }
   },
   "outputs": [],
   "source": [
    "#panda profile \n",
    "import pandas as pd\n",
    "from pandas_profiling import ProfileReport\n",
    "import seaborn as sn"
   ]
  },
  {
   "cell_type": "code",
   "execution_count": 2,
   "metadata": {
    "ExecuteTime": {
     "end_time": "2021-05-08T13:22:52.669826Z",
     "start_time": "2021-05-08T13:22:51.897945Z"
    }
   },
   "outputs": [],
   "source": [
    "df = pd.read_csv( '../datascience_em_producao/data/train.csv', low_memory=False )"
   ]
  },
  {
   "cell_type": "code",
   "execution_count": 7,
   "metadata": {
    "ExecuteTime": {
     "end_time": "2021-05-08T13:24:16.360703Z",
     "start_time": "2021-05-08T13:24:16.326049Z"
    }
   },
   "outputs": [
    {
     "data": {
      "text/plain": [
       "Index(['Store', 'DayOfWeek', 'Date', 'Sales', 'Customers', 'Open', 'Promo',\n",
       "       'StateHoliday', 'SchoolHoliday'],\n",
       "      dtype='object')"
      ]
     },
     "execution_count": 7,
     "metadata": {},
     "output_type": "execute_result"
    }
   ],
   "source": [
    "df.columns"
   ]
  },
  {
   "cell_type": "code",
   "execution_count": null,
   "metadata": {
    "ExecuteTime": {
     "start_time": "2021-05-08T13:25:33.147Z"
    }
   },
   "outputs": [],
   "source": [
    "sn.barplot(data = df)"
   ]
  },
  {
   "cell_type": "code",
   "execution_count": null,
   "metadata": {
    "ExecuteTime": {
     "end_time": "2021-05-07T15:34:46.994513Z",
     "start_time": "2021-05-07T15:34:46.884757Z"
    }
   },
   "outputs": [],
   "source": [
    "profile = ProfileReport(df, title = 'train')\n"
   ]
  },
  {
   "cell_type": "code",
   "execution_count": null,
   "metadata": {
    "ExecuteTime": {
     "end_time": "2021-05-07T15:35:56.666850Z",
     "start_time": "2021-05-07T15:35:02.546692Z"
    }
   },
   "outputs": [],
   "source": [
    "profile.to_notebook_iframe()"
   ]
  }
 ],
 "metadata": {
  "hide_input": false,
  "kernelspec": {
   "display_name": "Python 3",
   "language": "python",
   "name": "python3"
  },
  "language_info": {
   "codemirror_mode": {
    "name": "ipython",
    "version": 3
   },
   "file_extension": ".py",
   "mimetype": "text/x-python",
   "name": "python",
   "nbconvert_exporter": "python",
   "pygments_lexer": "ipython3",
   "version": "3.8.0"
  },
  "varInspector": {
   "cols": {
    "lenName": 16,
    "lenType": 16,
    "lenVar": 40
   },
   "kernels_config": {
    "python": {
     "delete_cmd_postfix": "",
     "delete_cmd_prefix": "del ",
     "library": "var_list.py",
     "varRefreshCmd": "print(var_dic_list())"
    },
    "r": {
     "delete_cmd_postfix": ") ",
     "delete_cmd_prefix": "rm(",
     "library": "var_list.r",
     "varRefreshCmd": "cat(var_dic_list()) "
    }
   },
   "types_to_exclude": [
    "module",
    "function",
    "builtin_function_or_method",
    "instance",
    "_Feature"
   ],
   "window_display": false
  }
 },
 "nbformat": 4,
 "nbformat_minor": 2
}
